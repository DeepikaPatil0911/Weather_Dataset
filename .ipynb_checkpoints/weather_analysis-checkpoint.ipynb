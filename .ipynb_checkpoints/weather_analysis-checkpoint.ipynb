{
 "cells": [
  {
   "cell_type": "markdown",
   "id": "f957ff48-05ea-4194-9a5c-7342996315f4",
   "metadata": {},
   "source": [
    "# The Weather Dataset"
   ]
  },
  {
   "cell_type": "markdown",
   "id": "5df3d45d-ffa9-4058-9320-c28a58f68ec7",
   "metadata": {},
   "source": [
    "`Here, The Weather Dataset is a time-series data set with per-hour information about the weather conditions at a particular location. It records Temperature.\n",
    "Dew Point Temperature, Relative Humidity, Wind Speed, Visibility, Pressure, and Conditions.`\n",
    "`This data is available as a CSV file. We are going to analyze this data set using the Pandas DataFrame.`"
   ]
  },
  {
   "cell_type": "code",
   "execution_count": null,
   "id": "073b8a30-72ff-4a59-a79f-06a5258bec12",
   "metadata": {},
   "outputs": [],
   "source": []
  }
 ],
 "metadata": {
  "kernelspec": {
   "display_name": "Python 3 (ipykernel)",
   "language": "python",
   "name": "python3"
  },
  "language_info": {
   "codemirror_mode": {
    "name": "ipython",
    "version": 3
   },
   "file_extension": ".py",
   "mimetype": "text/x-python",
   "name": "python",
   "nbconvert_exporter": "python",
   "pygments_lexer": "ipython3",
   "version": "3.12.1"
  }
 },
 "nbformat": 4,
 "nbformat_minor": 5
}
